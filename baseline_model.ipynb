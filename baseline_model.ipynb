{
  "nbformat": 4,
  "nbformat_minor": 0,
  "metadata": {
    "colab": {
      "provenance": [],
      "gpuType": "T4"
    },
    "kernelspec": {
      "name": "python3",
      "display_name": "Python 3"
    },
    "language_info": {
      "name": "python"
    },
    "accelerator": "GPU"
  },
  "cells": [
    {
      "cell_type": "code",
      "execution_count": 19,
      "metadata": {
        "id": "o65QbiPPMhqk"
      },
      "outputs": [],
      "source": [
        "import pandas as pd\n",
        "import re\n",
        "from transformers import pipeline"
      ]
    },
    {
      "cell_type": "code",
      "source": [
        "tesla_tweets = pd.read_csv('tesla_and_others.csv')"
      ],
      "metadata": {
        "id": "v7eeQ-tpMp8v"
      },
      "execution_count": 32,
      "outputs": []
    },
    {
      "cell_type": "code",
      "source": [
        "print(tesla_tweets.head())"
      ],
      "metadata": {
        "colab": {
          "base_uri": "https://localhost:8080/"
        },
        "id": "EhYZKIM9Myeo",
        "outputId": "aea8ac19-a462-451e-9d71-a6fef4545f45"
      },
      "execution_count": 34,
      "outputs": [
        {
          "output_type": "stream",
          "name": "stdout",
          "text": [
            "                        Date  \\\n",
            "0  2022-09-29 23:41:16+00:00   \n",
            "1  2022-09-29 23:24:43+00:00   \n",
            "2  2022-09-29 23:18:08+00:00   \n",
            "3  2022-09-29 22:40:07+00:00   \n",
            "4  2022-09-29 22:27:05+00:00   \n",
            "\n",
            "                                               Tweet Stock Name Company Name  \n",
            "0  Mainstream media has done an amazing job at br...       TSLA  Tesla, Inc.  \n",
            "1  Tesla delivery estimates are at around 364k fr...       TSLA  Tesla, Inc.  \n",
            "2  3/ Even if I include 63.0M unvested RSUs as of...       TSLA  Tesla, Inc.  \n",
            "3  @RealDanODowd @WholeMarsBlog @Tesla Hahaha why...       TSLA  Tesla, Inc.  \n",
            "4  @RealDanODowd @Tesla Stop trying to kill kids,...       TSLA  Tesla, Inc.  \n"
          ]
        }
      ]
    },
    {
      "cell_type": "code",
      "source": [
        "tesla_tweets = tesla_tweets[tesla_tweets['Stock Name'] == 'TSLA']"
      ],
      "metadata": {
        "id": "iKpEZlctJ6Pc"
      },
      "execution_count": 35,
      "outputs": []
    },
    {
      "cell_type": "code",
      "source": [
        "print(tesla_tweets.head())\n",
        "num_rows = tesla_tweets.shape[0]\n",
        "print(f\"Number of rows in the cleaned data: {num_rows}\")"
      ],
      "metadata": {
        "colab": {
          "base_uri": "https://localhost:8080/"
        },
        "id": "N9sJnOUKNqob",
        "outputId": "a4a43807-f75d-4a71-c7ba-1d47de4cff00"
      },
      "execution_count": 36,
      "outputs": [
        {
          "output_type": "stream",
          "name": "stdout",
          "text": [
            "                        Date  \\\n",
            "0  2022-09-29 23:41:16+00:00   \n",
            "1  2022-09-29 23:24:43+00:00   \n",
            "2  2022-09-29 23:18:08+00:00   \n",
            "3  2022-09-29 22:40:07+00:00   \n",
            "4  2022-09-29 22:27:05+00:00   \n",
            "\n",
            "                                               Tweet Stock Name Company Name  \n",
            "0  Mainstream media has done an amazing job at br...       TSLA  Tesla, Inc.  \n",
            "1  Tesla delivery estimates are at around 364k fr...       TSLA  Tesla, Inc.  \n",
            "2  3/ Even if I include 63.0M unvested RSUs as of...       TSLA  Tesla, Inc.  \n",
            "3  @RealDanODowd @WholeMarsBlog @Tesla Hahaha why...       TSLA  Tesla, Inc.  \n",
            "4  @RealDanODowd @Tesla Stop trying to kill kids,...       TSLA  Tesla, Inc.  \n",
            "Number of rows in the cleaned data: 37422\n"
          ]
        }
      ]
    },
    {
      "cell_type": "code",
      "source": [
        "tesla_tweets['Tweet'] = tesla_tweets['Tweet'].apply(lambda x: re.sub(r'http\\S+|www.\\S+|@\\w+|#\\w+', '', x))\n",
        "tesla_tweets['Tweet'] = tesla_tweets['Tweet'].str.lower()"
      ],
      "metadata": {
        "id": "FKxmwI6QM3c0"
      },
      "execution_count": 42,
      "outputs": []
    },
    {
      "cell_type": "code",
      "source": [
        "print(tesla_tweets['Tweet'].head())"
      ],
      "metadata": {
        "colab": {
          "base_uri": "https://localhost:8080/"
        },
        "id": "LocU5AAyOnBo",
        "outputId": "4eec5913-ac6f-4ee1-a186-ffb32e672cd1"
      },
      "execution_count": 43,
      "outputs": [
        {
          "output_type": "stream",
          "name": "stdout",
          "text": [
            "0    mainstream media has done an amazing job at br...\n",
            "1    tesla delivery estimates are at around 364k fr...\n",
            "2    3/ even if i include 63.0m unvested rsus as of...\n",
            "3       hahaha why are you still trying to stop tes...\n",
            "4      stop trying to kill kids, you sad deranged o...\n",
            "Name: Tweet, dtype: object\n"
          ]
        }
      ]
    },
    {
      "cell_type": "code",
      "source": [
        "tesla_tweets['Date'] = pd.to_datetime(tesla_tweets['Date']).dt.date"
      ],
      "metadata": {
        "id": "YCu4Ynv5M7Iw"
      },
      "execution_count": 50,
      "outputs": []
    },
    {
      "cell_type": "code",
      "source": [
        "print(tesla_tweets['Date'].head())"
      ],
      "metadata": {
        "colab": {
          "base_uri": "https://localhost:8080/"
        },
        "id": "-QAILWDTLMcn",
        "outputId": "c702782f-ee25-4308-ac17-448e4aad7958"
      },
      "execution_count": 51,
      "outputs": [
        {
          "output_type": "stream",
          "name": "stdout",
          "text": [
            "0    2022-09-29\n",
            "1    2022-09-29\n",
            "2    2022-09-29\n",
            "3    2022-09-29\n",
            "4    2022-09-29\n",
            "Name: Date, dtype: object\n"
          ]
        }
      ]
    },
    {
      "cell_type": "code",
      "source": [
        "tesla_tweets = tesla_tweets.dropna(subset=['Tweet', 'Date']).drop_duplicates()\n",
        "tesla_tweets = tesla_tweets.drop_duplicates(subset='Tweet')\n",
        "tesla_tweets = tesla_tweets.drop(columns=['Stock Name', 'Company Name'], errors='ignore')\n",
        "print(tesla_tweets.head())"
      ],
      "metadata": {
        "colab": {
          "base_uri": "https://localhost:8080/"
        },
        "id": "MwgbRGQnM-R9",
        "outputId": "777aba0e-d69e-4d7f-eee7-4adc5700100c"
      },
      "execution_count": 57,
      "outputs": [
        {
          "output_type": "stream",
          "name": "stdout",
          "text": [
            "         Date                                              Tweet\n",
            "0  2022-09-29  mainstream media has done an amazing job at br...\n",
            "1  2022-09-29  tesla delivery estimates are at around 364k fr...\n",
            "2  2022-09-29  3/ even if i include 63.0m unvested rsus as of...\n",
            "3  2022-09-29     hahaha why are you still trying to stop tes...\n",
            "4  2022-09-29    stop trying to kill kids, you sad deranged o...\n"
          ]
        }
      ]
    },
    {
      "cell_type": "code",
      "source": [
        "num_rows = tesla_tweets.shape[0]\n",
        "print(f\"Number of rows in the cleaned data: {num_rows}\")"
      ],
      "metadata": {
        "colab": {
          "base_uri": "https://localhost:8080/"
        },
        "id": "lGHy2T-iLcVs",
        "outputId": "9bbc08e9-54cf-4302-f51a-a5e061bd9cbe"
      },
      "execution_count": 58,
      "outputs": [
        {
          "output_type": "stream",
          "name": "stdout",
          "text": [
            "Number of rows in the cleaned data: 37106\n"
          ]
        }
      ]
    },
    {
      "cell_type": "code",
      "source": [
        "start_date = tesla_tweets['Date'].min()\n",
        "end_date = tesla_tweets['Date'].max()\n",
        "\n",
        "print(f\"Start date of tweets: {start_date}\")\n",
        "print(f\"End date of tweets: {end_date}\")"
      ],
      "metadata": {
        "colab": {
          "base_uri": "https://localhost:8080/"
        },
        "id": "RJbwBeNON6IB",
        "outputId": "2c21ee29-9140-4cc9-d6fd-882af82d855e"
      },
      "execution_count": 59,
      "outputs": [
        {
          "output_type": "stream",
          "name": "stdout",
          "text": [
            "Start date of tweets: 2021-09-30\n",
            "End date of tweets: 2022-09-29\n"
          ]
        }
      ]
    },
    {
      "cell_type": "code",
      "source": [
        "# load FinBERT model for sentiment analysis\n",
        "sentiment_pipeline = pipeline(\n",
        "    \"sentiment-analysis\",\n",
        "    model=\"yiyanghkust/finbert-tone\",\n",
        "    tokenizer=\"yiyanghkust/finbert-tone\",\n",
        "    device=0\n",
        ")\n",
        "# run sentiment classification on the 'Tweet' column in batches with truncation\n",
        "\n",
        "sentiment_pipeline.tokenizer.model_max_length = 512\n",
        "sentiment_pipeline.tokenizer.truncation = True\n",
        "batch_size = 16\n",
        "tweet_texts = tesla_tweets['Tweet'].tolist()  # convert text column to a list of tweets\n",
        "\n",
        "\n",
        "sentiment_results = []\n",
        "for i in range(0, len(tweet_texts), batch_size):\n",
        "    batch = tweet_texts[i:i + batch_size]\n",
        "    sentiments = sentiment_pipeline(batch, truncation=True)\n",
        "    sentiment_results.extend(sentiments)\n",
        "\n",
        "# add the sentiment labels back to the DataFrame\n",
        "tesla_tweets['Sentiment'] = [result['label'] for result in sentiment_results]"
      ],
      "metadata": {
        "colab": {
          "base_uri": "https://localhost:8080/"
        },
        "id": "MJA5QkErNM_k",
        "outputId": "d5fc4229-e56c-4e39-bce5-f5ff59e15f49"
      },
      "execution_count": 60,
      "outputs": [
        {
          "output_type": "stream",
          "name": "stderr",
          "text": [
            "/usr/local/lib/python3.10/dist-packages/transformers/tokenization_utils_base.py:1601: FutureWarning: `clean_up_tokenization_spaces` was not set. It will be set to `True` by default. This behavior will be depracted in transformers v4.45, and will be then set to `False` by default. For more details check this issue: https://github.com/huggingface/transformers/issues/31884\n",
            "  warnings.warn(\n"
          ]
        }
      ]
    },
    {
      "cell_type": "code",
      "source": [
        "print(tesla_tweets.head())\n",
        "sentiment_counts = tesla_tweets['Sentiment'].value_counts()\n",
        "print(sentiment_counts)"
      ],
      "metadata": {
        "colab": {
          "base_uri": "https://localhost:8080/"
        },
        "id": "VBtONoe7RWcz",
        "outputId": "aac17828-6792-4471-cfeb-36a297585342"
      },
      "execution_count": 62,
      "outputs": [
        {
          "output_type": "stream",
          "name": "stdout",
          "text": [
            "         Date                                              Tweet Sentiment\n",
            "0  2022-09-29  mainstream media has done an amazing job at br...  Positive\n",
            "1  2022-09-29  tesla delivery estimates are at around 364k fr...   Neutral\n",
            "2  2022-09-29  3/ even if i include 63.0m unvested rsus as of...   Neutral\n",
            "3  2022-09-29     hahaha why are you still trying to stop tes...   Neutral\n",
            "4  2022-09-29    stop trying to kill kids, you sad deranged o...   Neutral\n",
            "Sentiment\n",
            "Neutral     27413\n",
            "Positive     6899\n",
            "Negative     2794\n",
            "Name: count, dtype: int64\n"
          ]
        }
      ]
    },
    {
      "cell_type": "code",
      "source": [
        "tesla_stock_data = pd.read_csv('tesla_historical_stock_prices.csv')"
      ],
      "metadata": {
        "id": "z8GM0e7aTDKP"
      },
      "execution_count": 135,
      "outputs": []
    },
    {
      "cell_type": "code",
      "source": [
        "print(tesla_stock_data.head())"
      ],
      "metadata": {
        "colab": {
          "base_uri": "https://localhost:8080/"
        },
        "id": "tLIn9mM_TMLU",
        "outputId": "5e088d63-6875-45b1-b97b-c0b6f91a3be2"
      },
      "execution_count": 136,
      "outputs": [
        {
          "output_type": "stream",
          "name": "stdout",
          "text": [
            "        Date    Open    High     Low  Close   Adj Close       Volume\n",
            "0  29-Sep-22  282.76  283.65  265.78  268.21      268.21  77,620,600\n",
            "1  28-Sep-22  283.08  289.00  277.57  287.81      287.81  54,664,800\n",
            "2  27-Sep-22  283.84  288.67  277.51  282.94      282.94  61,925,200\n",
            "3  26-Sep-22  271.83  284.09  270.31  276.01      276.01  58,076,900\n",
            "4  23-Sep-22  283.09  284.50  272.82  275.33      275.33  63,748,400\n"
          ]
        }
      ]
    },
    {
      "cell_type": "code",
      "source": [
        "tesla_stock_data['Date'] = pd.to_datetime(tesla_stock_data['Date'], format='%d-%b-%y')\n",
        "tesla_stock_data.columns = tesla_stock_data.columns.str.strip()\n",
        "print(tesla_stock_data.columns)\n",
        "tesla_stock_data = tesla_stock_data[['Date', 'Adj Close', 'Volume']].copy()\n",
        "tesla_stock_data.rename(columns={'Adj Close': 'Price'}, inplace=True)"
      ],
      "metadata": {
        "colab": {
          "base_uri": "https://localhost:8080/"
        },
        "id": "RodMLOmiTOyg",
        "outputId": "1235cb62-8d12-46f4-e12b-926e80532435"
      },
      "execution_count": 138,
      "outputs": [
        {
          "output_type": "stream",
          "name": "stdout",
          "text": [
            "Index(['Date', 'Open', 'High', 'Low', 'Close', 'Adj Close', 'Volume'], dtype='object')\n"
          ]
        }
      ]
    },
    {
      "cell_type": "code",
      "source": [
        "print(tesla_stock_data.head())"
      ],
      "metadata": {
        "colab": {
          "base_uri": "https://localhost:8080/"
        },
        "id": "AoUV7o9yTY86",
        "outputId": "9f8214d6-0069-40a0-9ff9-0925ebf2684a"
      },
      "execution_count": 139,
      "outputs": [
        {
          "output_type": "stream",
          "name": "stdout",
          "text": [
            "        Date   Price      Volume\n",
            "0 2022-09-29  268.21  77,620,600\n",
            "1 2022-09-28  287.81  54,664,800\n",
            "2 2022-09-27  282.94  61,925,200\n",
            "3 2022-09-26  276.01  58,076,900\n",
            "4 2022-09-23  275.33  63,748,400\n"
          ]
        }
      ]
    },
    {
      "cell_type": "code",
      "source": [
        "tesla_sentiment_data = tesla_tweets[['Date', 'Sentiment']]  # Assuming 'data' is your tweet DataFrame\n",
        "\n",
        "# convert sentiment labels to numeric values\n",
        "sentiment_mapping = {\"Positive\": 1, \"Neutral\": 0, \"Negative\": -1}\n",
        "tesla_sentiment_data['sentiment_numeric'] = tesla_sentiment_data['Sentiment'].map(sentiment_mapping)\n",
        "# make sure dates are in the right format\n",
        "tesla_stock_data['Date'] = pd.to_datetime(tesla_stock_data['Date'])\n",
        "tesla_sentiment_data['Date'] = pd.to_datetime(tesla_sentiment_data['Date'])\n",
        "# aggregate sentiment scores by date (taking the average sentiment for each day)\n",
        "daily_sentiment = tesla_sentiment_data.groupby('Date')['sentiment_numeric'].mean().reset_index()\n",
        "\n",
        "daily_sentiment.rename(columns={'sentiment_numeric': 'daily_sentiment'}, inplace=True)\n",
        "# interpolate missing prices\n",
        "tesla_stock_data = tesla_stock_data.set_index('Date').asfreq('D')\n",
        "tesla_stock_data = tesla_stock_data.infer_objects(copy=False)\n",
        "tesla_stock_data['Price'] = pd.to_numeric(tesla_stock_data['Price'], errors='coerce')\n",
        "tesla_stock_data['Volume'] = pd.to_numeric(tesla_stock_data['Volume'], errors='coerce')\n",
        "tesla_stock_data = tesla_stock_data.interpolate().reset_index()\n",
        "# merge Tesla stock data with sentiment data on date\n",
        "merged_data = pd.merge(tesla_stock_data, daily_sentiment, on='Date', how='inner')"
      ],
      "metadata": {
        "id": "8zg5bQ3hUBHm"
      },
      "execution_count": 143,
      "outputs": []
    },
    {
      "cell_type": "code",
      "source": [
        "# Display all rows\n",
        "pd.set_option('display.max_rows', None)\n",
        "\n",
        "# Display all columns (optional, if you want to see all columns too)\n",
        "pd.set_option('display.max_columns', None)\n",
        "\n",
        "# Now print the DataFrame\n",
        "print(merged_data)\n",
        "\n",
        "# Reset display options to default (optional)\n",
        "pd.reset_option('display.max_rows')\n",
        "pd.reset_option('display.max_columns')"
      ],
      "metadata": {
        "colab": {
          "base_uri": "https://localhost:8080/"
        },
        "id": "-YUNENI2WBcU",
        "outputId": "436bd707-87ea-43c5-d74d-b7611edce3a6"
      },
      "execution_count": 145,
      "outputs": [
        {
          "output_type": "stream",
          "name": "stdout",
          "text": [
            "          Date       Price  Volume  daily_sentiment\n",
            "0   2021-09-30  258.490000     NaN         0.133333\n",
            "1   2021-10-01  258.410000     NaN         0.148936\n",
            "2   2021-10-02  259.110000     NaN         0.295652\n",
            "3   2021-10-03  259.810000     NaN         0.278689\n",
            "4   2021-10-04  260.510000     NaN         0.169492\n",
            "5   2021-10-05  260.200000     NaN         0.183908\n",
            "6   2021-10-06  260.920000     NaN         0.142857\n",
            "7   2021-10-07  264.540000     NaN         0.191176\n",
            "8   2021-10-08  261.830000     NaN         0.147727\n",
            "9   2021-10-09  262.546667     NaN         0.238095\n",
            "10  2021-10-10  263.263333     NaN         0.206349\n",
            "11  2021-10-11  263.980000     NaN         0.084211\n",
            "12  2021-10-12  268.570000     NaN         0.105263\n",
            "13  2021-10-13  270.360000     NaN         0.129412\n",
            "14  2021-10-14  272.770000     NaN         0.179245\n",
            "15  2021-10-15  281.010000     NaN         0.156028\n",
            "16  2021-10-16  284.020000     NaN         0.054795\n",
            "17  2021-10-17  287.030000     NaN         0.082474\n",
            "18  2021-10-18  290.040000     NaN         0.155405\n",
            "19  2021-10-19  288.090000     NaN         0.187500\n",
            "20  2021-10-20  288.600000     NaN         0.178161\n",
            "21  2021-10-21  298.000000     NaN         0.277778\n",
            "22  2021-10-22  303.230000     NaN         0.222892\n",
            "23  2021-10-23  316.026667     NaN         0.150000\n",
            "24  2021-10-24  328.823333     NaN         0.123077\n",
            "25  2021-10-25  341.620000     NaN         0.172489\n",
            "26  2021-10-26  339.480000     NaN         0.096639\n",
            "27  2021-10-27  345.950000     NaN         0.131429\n",
            "28  2021-10-28  359.010000     NaN         0.153226\n",
            "29  2021-10-29  371.330000     NaN         0.117647\n",
            "30  2021-10-30  381.840000     NaN         0.148936\n",
            "31  2021-10-31  392.350000     NaN         0.111111\n",
            "32  2021-11-01  402.860000     NaN         0.142308\n",
            "33  2021-11-02  390.670000     NaN         0.098039\n",
            "34  2021-11-03  404.620000     NaN         0.031008\n",
            "35  2021-11-04  409.970000     NaN         0.115646\n",
            "36  2021-11-05  407.360000     NaN         0.250000\n",
            "37  2021-11-06  400.790000     NaN         0.111111\n",
            "38  2021-11-07  394.220000     NaN         0.118056\n",
            "39  2021-11-08  387.650000     NaN         0.079070\n",
            "40  2021-11-09  341.170000     NaN         0.075377\n",
            "41  2021-11-10  355.980000     NaN         0.058201\n",
            "42  2021-11-11  354.500000     NaN         0.106667\n",
            "43  2021-11-12  344.470000     NaN         0.102362\n",
            "44  2021-11-13  342.246667     NaN         0.058824\n",
            "45  2021-11-14  340.023333     NaN         0.126437\n",
            "46  2021-11-15  337.800000     NaN         0.033333\n",
            "47  2021-11-16  351.580000     NaN         0.085938\n",
            "48  2021-11-17  363.000000     NaN         0.109091\n",
            "49  2021-11-18  365.460000     NaN         0.093750\n",
            "50  2021-11-19  379.020000     NaN         0.122951\n",
            "51  2021-11-20  381.220000     NaN         0.101449\n",
            "52  2021-11-21  383.420000     NaN         0.205128\n",
            "53  2021-11-22  385.620000     NaN         0.105691\n",
            "54  2021-11-23  369.680000     NaN         0.134921\n",
            "55  2021-11-24  372.000000     NaN         0.112245\n",
            "56  2021-11-25  366.320000     NaN         0.216667\n",
            "57  2021-11-26  360.640000     NaN         0.103448\n",
            "58  2021-11-27  366.760000     NaN         0.000000\n",
            "59  2021-11-28  372.880000     NaN         0.209302\n",
            "60  2021-11-29  379.000000     NaN         0.166667\n",
            "61  2021-11-30  381.590000     NaN         0.166667\n",
            "62  2021-12-01  365.000000     NaN         0.095652\n",
            "63  2021-12-02  361.530000     NaN         0.104348\n",
            "64  2021-12-03  338.320000     NaN         0.017094\n",
            "65  2021-12-04  337.660000     NaN         0.102941\n",
            "66  2021-12-05  337.000000     NaN         0.173913\n",
            "67  2021-12-06  336.340000     NaN         0.068750\n",
            "68  2021-12-07  350.580000     NaN         0.112069\n",
            "69  2021-12-08  356.320000     NaN         0.247525\n",
            "70  2021-12-09  334.600000     NaN        -0.028037\n",
            "71  2021-12-10  339.010000     NaN         0.157407\n",
            "72  2021-12-11  333.386667     NaN         0.267606\n",
            "73  2021-12-12  327.763333     NaN         0.058824\n",
            "74  2021-12-13  322.140000     NaN         0.156250\n",
            "75  2021-12-14  319.500000     NaN         0.037594\n",
            "76  2021-12-15  325.330000     NaN         0.158416\n",
            "77  2021-12-16  308.970000     NaN         0.008929\n",
            "78  2021-12-17  310.860000     NaN         0.070796\n",
            "79  2021-12-18  307.233333     NaN         0.098039\n",
            "80  2021-12-19  303.606667     NaN         0.111111\n",
            "81  2021-12-20  299.980000     NaN         0.110000\n",
            "82  2021-12-21  312.840000     NaN         0.170000\n",
            "83  2021-12-22  336.290000     NaN         0.067073\n",
            "84  2021-12-23  355.670000     NaN         0.181818\n",
            "85  2021-12-24  357.915000     NaN         0.144578\n",
            "86  2021-12-25  360.160000     NaN         0.181818\n",
            "87  2021-12-26  362.405000     NaN         0.228070\n",
            "88  2021-12-27  364.650000     NaN         0.191304\n",
            "89  2021-12-28  362.820000     NaN         0.200000\n",
            "90  2021-12-29  362.060000     NaN         0.098765\n",
            "91  2021-12-30  356.780000     NaN         0.122951\n",
            "92  2021-12-31  352.260000     NaN         0.244094\n",
            "93  2022-01-01  368.150000     NaN         0.333333\n",
            "94  2022-01-02  384.040000     NaN         0.323232\n",
            "95  2022-01-03  399.930000     NaN         0.177049\n",
            "96  2022-01-04  383.200000     NaN         0.122302\n",
            "97  2022-01-05  362.710000     NaN         0.091503\n",
            "98  2022-01-06  354.900000     NaN         0.166667\n",
            "99  2022-01-07  342.320000     NaN         0.180451\n",
            "100 2022-01-08  345.783333     NaN         0.000000\n",
            "101 2022-01-09  349.246667     NaN         0.203704\n",
            "102 2022-01-10  352.710000     NaN         0.210884\n",
            "103 2022-01-11  354.800000     NaN         0.205607\n",
            "104 2022-01-12  368.740000     NaN         0.117241\n",
            "105 2022-01-13  343.850000     NaN         0.045752\n",
            "106 2022-01-14  349.870000     NaN         0.104938\n",
            "107 2022-01-15  348.277500     NaN         0.053333\n",
            "108 2022-01-16  346.685000     NaN         0.057692\n",
            "109 2022-01-17  345.092500     NaN         0.169014\n",
            "110 2022-01-18  343.500000     NaN         0.164948\n",
            "111 2022-01-19  331.880000     NaN         0.122449\n",
            "112 2022-01-20  332.090000     NaN         0.115385\n",
            "113 2022-01-21  314.630000     NaN        -0.056604\n",
            "114 2022-01-22  313.086667     NaN         0.082192\n",
            "115 2022-01-23  311.543333     NaN         0.200000\n",
            "116 2022-01-24  310.000000     NaN         0.055215\n",
            "117 2022-01-25  306.130000     NaN         0.185897\n",
            "118 2022-01-26  312.470000     NaN         0.213376\n",
            "119 2022-01-27  276.370000     NaN         0.099237\n",
            "120 2022-01-28  282.120000     NaN         0.124324\n",
            "121 2022-01-29  292.160000     NaN         0.114943\n",
            "122 2022-01-30  302.200000     NaN         0.133333\n",
            "123 2022-01-31  312.240000     NaN         0.259542\n",
            "124 2022-02-01  310.420000     NaN         0.168142\n",
            "125 2022-02-02  301.890000     NaN         0.073684\n",
            "126 2022-02-03  297.050000     NaN         0.071429\n",
            "127 2022-02-04  307.770000     NaN         0.135802\n",
            "128 2022-02-05  305.996667     NaN         0.214286\n",
            "129 2022-02-06  304.223333     NaN         0.166667\n",
            "130 2022-02-07  302.450000     NaN         0.085366\n",
            "131 2022-02-08  307.330000     NaN         0.036697\n",
            "132 2022-02-09  310.670000     NaN         0.129412\n",
            "133 2022-02-10  301.520000     NaN         0.014925\n",
            "134 2022-02-11  286.670000     NaN         0.060606\n",
            "135 2022-02-12  288.420000     NaN         0.129032\n",
            "136 2022-02-13  290.170000     NaN         0.000000\n",
            "137 2022-02-14  291.920000     NaN         0.187500\n",
            "138 2022-02-15  307.480000     NaN         0.183908\n",
            "139 2022-02-16  307.800000     NaN         0.067568\n",
            "140 2022-02-17  292.120000     NaN         0.090000\n",
            "141 2022-02-18  285.660000     NaN         0.190476\n",
            "142 2022-02-19  282.705000     NaN         0.097222\n",
            "143 2022-02-20  279.750000     NaN         0.049180\n",
            "144 2022-02-21  276.795000     NaN         0.023810\n",
            "145 2022-02-22  273.840000     NaN         0.088235\n",
            "146 2022-02-23  254.680000     NaN        -0.013072\n",
            "147 2022-02-24  266.920000     NaN        -0.009434\n",
            "148 2022-02-25  269.960000     NaN         0.213115\n",
            "149 2022-02-26  276.686667     NaN         0.060606\n",
            "150 2022-02-27  283.413333     NaN         0.166667\n",
            "151 2022-02-28  290.140000     NaN         0.080000\n",
            "152 2022-03-01  288.120000     NaN         0.133333\n",
            "153 2022-03-02  293.300000     NaN         0.035294\n",
            "154 2022-03-03  279.760000     NaN         0.045455\n",
            "155 2022-03-04  279.430000     NaN         0.141509\n",
            "156 2022-03-05  275.683333     NaN         0.000000\n",
            "157 2022-03-06  271.936667     NaN         0.176471\n",
            "158 2022-03-07  268.190000     NaN         0.035714\n",
            "159 2022-03-08  274.800000     NaN         0.060000\n",
            "160 2022-03-09  286.320000     NaN         0.154762\n",
            "161 2022-03-10  279.430000     NaN         0.166667\n",
            "162 2022-03-11  265.120000     NaN         0.000000\n",
            "163 2022-03-12  261.900000     NaN         0.152174\n",
            "164 2022-03-13  258.680000     NaN         0.075000\n",
            "165 2022-03-14  255.460000     NaN         0.053191\n",
            "166 2022-03-15  267.300000     NaN         0.030303\n",
            "167 2022-03-16  280.080000     NaN         0.170732\n",
            "168 2022-03-17  290.530000     NaN         0.125000\n",
            "169 2022-03-18  301.800000     NaN         0.280488\n",
            "170 2022-03-19  303.550000     NaN         0.160000\n",
            "171 2022-03-20  305.300000     NaN        -0.046512\n",
            "172 2022-03-21  307.050000     NaN         0.181818\n",
            "173 2022-03-22  331.330000     NaN         0.162037\n",
            "174 2022-03-23  333.040000     NaN         0.085938\n",
            "175 2022-03-24  337.970000     NaN         0.050505\n",
            "176 2022-03-25  336.880000     NaN         0.192308\n",
            "177 2022-03-26  345.903333     NaN         0.089888\n",
            "178 2022-03-27  354.926667     NaN         0.000000\n",
            "179 2022-03-28  363.950000     NaN         0.144330\n",
            "180 2022-03-29  366.520000     NaN         0.186275\n",
            "181 2022-03-30  364.660000     NaN         0.113402\n",
            "182 2022-03-31  359.200000     NaN         0.108696\n",
            "183 2022-04-01  361.530000     NaN         0.142857\n",
            "184 2022-04-02  368.293333     NaN         0.176471\n",
            "185 2022-04-03  375.056667     NaN         0.121622\n",
            "186 2022-04-04  381.820000     NaN         0.137255\n",
            "187 2022-04-05  363.750000     NaN         0.044643\n",
            "188 2022-04-06  348.590000     NaN         0.094737\n",
            "189 2022-04-07  352.420000     NaN         0.097902\n",
            "190 2022-04-08  341.830000     NaN         0.195021\n",
            "191 2022-04-09  336.323333     NaN         0.320000\n",
            "192 2022-04-10  330.816667     NaN         0.100000\n",
            "193 2022-04-11  325.310000     NaN         0.051724\n",
            "194 2022-04-12  328.980000     NaN         0.032967\n",
            "195 2022-04-13  340.790000     NaN         0.134831\n",
            "196 2022-04-14  328.330000     NaN         0.033898\n",
            "197 2022-04-15  329.937500     NaN        -0.039474\n",
            "198 2022-04-16  331.545000     NaN         0.015385\n",
            "199 2022-04-17  333.152500     NaN         0.000000\n",
            "200 2022-04-18  334.760000     NaN         0.009615\n",
            "201 2022-04-19  342.720000     NaN         0.145833\n",
            "202 2022-04-20  325.730000     NaN         0.162319\n",
            "203 2022-04-21  336.260000     NaN         0.216749\n",
            "204 2022-04-22  335.020000     NaN         0.026549\n",
            "205 2022-04-23  334.236667     NaN        -0.049505\n",
            "206 2022-04-24  333.453333     NaN         0.041667\n",
            "207 2022-04-25  332.670000     NaN         0.103896\n",
            "208 2022-04-26  292.140000     NaN        -0.032258\n",
            "209 2022-04-27  293.840000     NaN         0.073171\n",
            "210 2022-04-28  292.500000     NaN         0.029197\n",
            "211 2022-04-29  290.250000     NaN         0.078704\n",
            "212 2022-04-30  293.826667     NaN         0.129032\n",
            "213 2022-05-01  297.403333     NaN         0.046154\n",
            "214 2022-05-02  300.980000     NaN         0.121212\n",
            "215 2022-05-03  303.080000     NaN         0.028169\n",
            "216 2022-05-04  317.540000     NaN         0.076087\n",
            "217 2022-05-05  291.090000     NaN         0.163265\n",
            "218 2022-05-06  288.550000     NaN         0.188525\n",
            "219 2022-05-07  279.823333     NaN         0.148936\n",
            "220 2022-05-08  271.096667     NaN         0.014925\n",
            "221 2022-05-09  262.370000     NaN         0.000000\n",
            "222 2022-05-10  266.680000     NaN        -0.047945\n",
            "223 2022-05-11  244.670000     NaN         0.014599\n",
            "224 2022-05-12  242.670000     NaN         0.022059\n",
            "225 2022-05-13  256.530000     NaN         0.072727\n",
            "226 2022-05-14  251.506667     NaN         0.031746\n",
            "227 2022-05-15  246.483333     NaN         0.107143\n",
            "228 2022-05-16  241.460000     NaN        -0.053571\n",
            "229 2022-05-17  253.870000     NaN         0.048193\n",
            "230 2022-05-18  236.600000     NaN        -0.046154\n",
            "231 2022-05-19  236.470000     NaN        -0.063380\n",
            "232 2022-05-20  221.300000     NaN        -0.070248\n",
            "233 2022-05-21  222.523333     NaN        -0.038462\n",
            "234 2022-05-22  223.746667     NaN         0.000000\n",
            "235 2022-05-23  224.970000     NaN         0.044118\n",
            "236 2022-05-24  209.390000     NaN        -0.035971\n",
            "237 2022-05-25  219.600000     NaN         0.128000\n",
            "238 2022-05-26  235.910000     NaN         0.190476\n",
            "239 2022-05-27  253.210000     NaN         0.214286\n",
            "240 2022-05-28  253.095000     NaN         0.185714\n",
            "241 2022-05-29  252.980000     NaN         0.063830\n",
            "242 2022-05-30  252.865000     NaN         0.056604\n",
            "243 2022-05-31  252.750000     NaN         0.191176\n",
            "244 2022-06-01  246.790000     NaN         0.043478\n",
            "245 2022-06-02  258.330000     NaN         0.112000\n",
            "246 2022-06-03  234.520000     NaN        -0.029851\n",
            "247 2022-06-04  235.773333     NaN         0.017544\n",
            "248 2022-06-05  237.026667     NaN         0.028571\n",
            "249 2022-06-06  238.280000     NaN         0.012500\n",
            "250 2022-06-07  238.890000     NaN         0.050633\n",
            "251 2022-06-08  241.870000     NaN         0.084337\n",
            "252 2022-06-09  239.710000     NaN         0.190083\n",
            "253 2022-06-10  232.230000     NaN         0.116788\n",
            "254 2022-06-11  226.733333     NaN         0.222222\n",
            "255 2022-06-12  221.236667     NaN         0.025641\n",
            "256 2022-06-13  215.740000     NaN         0.009434\n",
            "257 2022-06-14  220.890000     NaN         0.138889\n",
            "258 2022-06-15  233.000000     NaN         0.159091\n",
            "259 2022-06-16  213.100000     NaN         0.000000\n",
            "260 2022-06-17  216.760000     NaN        -0.035088\n",
            "261 2022-06-18  221.830000     NaN         0.158730\n",
            "262 2022-06-19  226.900000     NaN         0.162162\n",
            "263 2022-06-20  231.970000     NaN         0.121951\n",
            "264 2022-06-21  237.040000     NaN         0.116279\n",
            "265 2022-06-22  236.090000     NaN         0.113402\n",
            "266 2022-06-23  235.070000     NaN         0.012987\n",
            "267 2022-06-24  245.710000     NaN         0.134615\n",
            "268 2022-06-25  245.446667     NaN         0.050000\n",
            "269 2022-06-26  245.183333     NaN         0.173913\n",
            "270 2022-06-27  244.920000     NaN         0.021739\n",
            "271 2022-06-28  232.660000     NaN         0.029851\n",
            "272 2022-06-29  228.490000     NaN         0.112500\n",
            "273 2022-06-30  224.470000     NaN        -0.090909\n",
            "274 2022-07-01  227.260000     NaN         0.000000\n",
            "275 2022-07-02  228.712500     NaN         0.223404\n",
            "276 2022-07-03  230.165000     NaN         0.217391\n",
            "277 2022-07-04  231.617500     NaN         0.208333\n",
            "278 2022-07-05  233.070000     NaN         0.059524\n",
            "279 2022-07-06  231.730000     NaN         0.093333\n",
            "280 2022-07-07  244.540000     NaN         0.043478\n",
            "281 2022-07-08  250.760000     NaN         0.115044\n",
            "282 2022-07-09  245.286667     NaN         0.084746\n",
            "283 2022-07-10  239.813333     NaN         0.106383\n",
            "284 2022-07-11  234.340000     NaN         0.011364\n",
            "285 2022-07-12  233.070000     NaN         0.038961\n",
            "286 2022-07-13  237.040000     NaN         0.009009\n",
            "287 2022-07-14  238.310000     NaN         0.150000\n",
            "288 2022-07-15  240.070000     NaN         0.101449\n",
            "289 2022-07-16  240.230000     NaN         0.058824\n",
            "290 2022-07-17  240.390000     NaN         0.000000\n",
            "291 2022-07-18  240.550000     NaN         0.112903\n",
            "292 2022-07-19  245.530000     NaN         0.142857\n",
            "293 2022-07-20  247.500000     NaN         0.041199\n",
            "294 2022-07-21  271.710000     NaN         0.247475\n",
            "295 2022-07-22  272.240000     NaN         0.146341\n",
            "296 2022-07-23  270.970000     NaN         0.020833\n",
            "297 2022-07-24  269.700000     NaN         0.119048\n",
            "298 2022-07-25  268.430000     NaN         0.190476\n",
            "299 2022-07-26  258.860000     NaN         0.118421\n",
            "300 2022-07-27  274.820000     NaN         0.142857\n",
            "301 2022-07-28  280.900000     NaN         0.175824\n",
            "302 2022-07-29  297.150000     NaN         0.182692\n",
            "303 2022-07-30  297.193333     NaN         0.000000\n",
            "304 2022-07-31  297.236667     NaN         0.170732\n",
            "305 2022-08-01  297.280000     NaN         0.122222\n",
            "306 2022-08-02  300.590000     NaN         0.137931\n",
            "307 2022-08-03  307.400000     NaN         0.188889\n",
            "308 2022-08-04  308.630000     NaN         0.125749\n",
            "309 2022-08-05  288.170000     NaN         0.102041\n",
            "310 2022-08-06  288.920000     NaN         0.191176\n",
            "311 2022-08-07  289.670000     NaN         0.125000\n",
            "312 2022-08-08  290.420000     NaN         0.131313\n",
            "313 2022-08-09  283.330000     NaN         0.075472\n",
            "314 2022-08-10  294.360000     NaN         0.076555\n",
            "315 2022-08-11  286.630000     NaN         0.042105\n",
            "316 2022-08-12  300.030000     NaN         0.080808\n",
            "317 2022-08-13  303.126667     NaN         0.034483\n",
            "318 2022-08-14  306.223333     NaN         0.142857\n",
            "319 2022-08-15  309.320000     NaN         0.119048\n",
            "320 2022-08-16  306.560000     NaN         0.020833\n",
            "321 2022-08-17  304.000000     NaN        -0.026316\n",
            "322 2022-08-18  302.870000     NaN         0.142857\n",
            "323 2022-08-19  296.670000     NaN         0.223881\n",
            "324 2022-08-20  294.416667     NaN         0.111111\n",
            "325 2022-08-21  292.163333     NaN         0.269841\n",
            "326 2022-08-22  289.910000     NaN         0.151515\n",
            "327 2022-08-23  296.450000     NaN         0.080000\n",
            "328 2022-08-24  297.100000     NaN         0.100917\n",
            "329 2022-08-25  296.070000     NaN         0.077465\n",
            "330 2022-08-26  288.090000     NaN         0.168831\n",
            "331 2022-08-27  287.000000     NaN         0.079365\n",
            "332 2022-08-28  285.910000     NaN         0.125000\n",
            "333 2022-08-29  284.820000     NaN         0.047059\n",
            "334 2022-08-30  277.700000     NaN         0.094118\n",
            "335 2022-08-31  275.610000     NaN         0.156250\n",
            "336 2022-09-01  277.160000     NaN         0.103896\n",
            "337 2022-09-02  270.210000     NaN         0.193548\n",
            "338 2022-09-03  271.262500     NaN         0.204082\n",
            "339 2022-09-04  272.315000     NaN         0.190476\n",
            "340 2022-09-05  273.367500     NaN         0.000000\n",
            "341 2022-09-06  274.420000     NaN         0.160494\n",
            "342 2022-09-07  283.700000     NaN         0.112360\n",
            "343 2022-09-08  289.260000     NaN         0.122222\n",
            "344 2022-09-09  299.680000     NaN         0.191919\n",
            "345 2022-09-10  301.260000     NaN        -0.027027\n",
            "346 2022-09-11  302.840000     NaN         0.166667\n",
            "347 2022-09-12  304.420000     NaN         0.102941\n",
            "348 2022-09-13  292.130000     NaN         0.194444\n",
            "349 2022-09-14  302.610000     NaN         0.140187\n",
            "350 2022-09-15  303.750000     NaN         0.191489\n",
            "351 2022-09-16  303.350000     NaN         0.234694\n",
            "352 2022-09-17  305.256667     NaN         0.076923\n",
            "353 2022-09-18  307.163333     NaN         0.137255\n",
            "354 2022-09-19  309.070000     NaN         0.137931\n",
            "355 2022-09-20  308.730000     NaN         0.024691\n",
            "356 2022-09-21  300.800000     NaN         0.148148\n",
            "357 2022-09-22  288.590000     NaN         0.096386\n",
            "358 2022-09-23  275.330000     NaN         0.081395\n",
            "359 2022-09-24  275.556667     NaN         0.268293\n",
            "360 2022-09-25  275.783333     NaN         0.027778\n",
            "361 2022-09-26  276.010000     NaN         0.125000\n",
            "362 2022-09-27  282.940000     NaN         0.188235\n",
            "363 2022-09-28  287.810000     NaN         0.160000\n",
            "364 2022-09-29  268.210000     NaN         0.054054\n"
          ]
        }
      ]
    },
    {
      "cell_type": "code",
      "source": [
        "import numpy as np\n",
        "from sklearn.model_selection import train_test_split\n",
        "from sklearn.linear_model import LinearRegression\n",
        "from sklearn.metrics import mean_absolute_error, mean_squared_error, r2_score\n",
        "import matplotlib.pyplot as plt\n",
        "def create_lagged_features(df, price_column, sentiment_column, n_lags=7):\n",
        "    df = df.copy()\n",
        "    for lag in range(1, n_lags + 1):\n",
        "        df[f'price_lag_{lag}'] = df[price_column].shift(lag)\n",
        "        df[f'sentiment_lag_{lag}'] = df[sentiment_column].shift(lag)\n",
        "    return df\n",
        "# create lagged features for n_lags days\n",
        "n_lags = 7\n",
        "print(merged_data.shape)\n",
        "data_with_lags = create_lagged_features(merged_data, price_column='Price', sentiment_column='daily_sentiment', n_lags=n_lags)\n",
        "data_with_lags = data_with_lags.iloc[n_lags:]\n",
        "print(data_with_lags.shape)\n",
        "\n",
        "# define features (X) and target (y)\n",
        "X = data_with_lags[[col for col in data_with_lags.columns if 'lag' in col]]\n",
        "#print(X.head())\n",
        "y = data_with_lags['Price']\n",
        "\n",
        "# split the data into train and test sets\n",
        "X_train, X_test, y_train, y_test = train_test_split(X, y, test_size=0.2, shuffle=False)\n",
        "# train the Linear Regression Model\n",
        "baseline_model = LinearRegression()\n",
        "baseline_model.fit(X_train, y_train)\n",
        "\n",
        "# predict stock prices\n",
        "y_pred = baseline_model.predict(X_test)\n",
        "\n",
        "# calculate metrics\n",
        "mae = mean_absolute_error(y_test, y_pred)\n",
        "rmse = np.sqrt(mean_squared_error(y_test, y_pred))\n",
        "r2 = r2_score(y_test, y_pred)"
      ],
      "metadata": {
        "colab": {
          "base_uri": "https://localhost:8080/"
        },
        "id": "w5m2AmBVWPfG",
        "outputId": "4e4c9c73-1f4d-41c2-813e-a0584cffc87e"
      },
      "execution_count": 151,
      "outputs": [
        {
          "output_type": "stream",
          "name": "stdout",
          "text": [
            "(365, 4)\n",
            "(358, 18)\n"
          ]
        }
      ]
    },
    {
      "cell_type": "code",
      "source": [
        "print(f\"MAE: {mae}\")\n",
        "print(f\"RMSE: {rmse}\")\n",
        "print(f\"R² Score: {r2}\")"
      ],
      "metadata": {
        "colab": {
          "base_uri": "https://localhost:8080/"
        },
        "id": "qDgNyqvyZga4",
        "outputId": "656d2566-b511-42fd-c93b-da0c09a58b1f"
      },
      "execution_count": 152,
      "outputs": [
        {
          "output_type": "stream",
          "name": "stdout",
          "text": [
            "MAE: 4.784472221234635\n",
            "RMSE: 6.755673019705904\n",
            "R² Score: 0.761017946528974\n"
          ]
        }
      ]
    },
    {
      "cell_type": "code",
      "source": [
        "import matplotlib.pyplot as plt\n",
        "\n",
        "# Plot the actual vs. predicted stock prices\n",
        "plt.figure(figsize=(10, 6))\n",
        "\n",
        "# Plot actual stock prices\n",
        "plt.plot(y_test.values, label='Actual Stock Price', color='blue')\n",
        "\n",
        "# Plot predicted stock prices\n",
        "plt.plot(y_pred, label='Predicted Stock Price', color='red', linestyle='--')\n",
        "\n",
        "# Add title and labels\n",
        "plt.title(\"Predicted vs Actual Stock Prices\")\n",
        "plt.xlabel(\"Time (Days)\")\n",
        "plt.ylabel(\"Stock Price\")\n",
        "plt.legend()\n",
        "\n",
        "# Show plot\n",
        "plt.show()\n",
        "\n"
      ],
      "metadata": {
        "colab": {
          "base_uri": "https://localhost:8080/",
          "height": 564
        },
        "id": "IRHVWmvSX2bZ",
        "outputId": "56087d69-4d94-46d8-ea75-da872f7995ed"
      },
      "execution_count": 153,
      "outputs": [
        {
          "output_type": "display_data",
          "data": {
            "text/plain": [
              "<Figure size 1000x600 with 1 Axes>"
            ],
            "image/png": "[encoded data removed]"
          },
          "metadata": {}
        }
      ]
    }
  ]
}